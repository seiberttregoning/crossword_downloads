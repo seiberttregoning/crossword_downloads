{
 "cells": [
  {
   "cell_type": "code",
   "execution_count": 1,
   "metadata": {},
   "outputs": [
    {
     "name": "stdout",
     "output_type": "stream",
     "text": [
      "['07', '20', '2022', '2022-07-20', 'E-thousand', '', '']\n",
      "['07', '20', '2022', '2022-07-20', 'Seibert', '0:23', 23]\n",
      "['07', '20', '2022', '2022-07-20', 'dirk orozco', '0:57', 57]\n",
      "['07', '20', '2022', '2022-07-20', 'Joshtreg', '1:03', 63]\n"
     ]
    }
   ],
   "source": [
    "login_url = 'https://myaccount.nytimes.com/auth/login'\n",
    "leaders_url = 'https://www.nytimes.com/puzzles/leaderboards'\n",
    "username = ''\n",
    "password = ''\n",
    "\n",
    "import requests\n",
    "import csv\n",
    "from bs4 import BeautifulSoup as soup\n",
    "from datetime import datetime, timedelta\n",
    "\n",
    "players = ['Seibert', 'dirk orozco', 'Joshtreg', 'E-thousand']\n",
    "\n",
    "with open('cookie.txt') as f:\n",
    "    cookie = f.readlines()[0]\n",
    "\n",
    "## Cookie manually added\n",
    "\n",
    "# def login(username, password):\n",
    "#     login_resp = requests.post(login_url, data = {'login': username,\n",
    "#                                             'password': password},\n",
    "#                                     headers = {'User-Agent': 'Mozilla/5.0',\n",
    "#                                                'client_id': 'ios.crosswords'})\n",
    "#     login_resp.raise_for_status()\n",
    "#     for cookie in login_resp.json()['data']['cookies']:\n",
    "#         if cookie['name'] == 'NYT-S':\n",
    "#             return cookie['cipheredValue']\n",
    "#     raise ValueError('NYT-S cookie not found')\n",
    "\n",
    "\n",
    "def get_mini_times(cookie, output):\n",
    "    #    response = requests.get(leaders_url, cookies = {'datadome': cookie})\n",
    "    response = requests.get(leaders_url, cookies = {'NYT-S': cookie})\n",
    "    page = soup(response.content, features = 'html.parser')\n",
    "    solvers = page.find_all('div', class_ = 'lbd-score')\n",
    "    current_datetime = datetime.now()\n",
    "    month = str(current_datetime.strftime(\"%m\"))\n",
    "    day = str(current_datetime.strftime(\"%d\"))\n",
    "    year = str(current_datetime.strftime(\"%Y\"))\n",
    "    daytimes=[]\n",
    "    # print('--------------------------')\n",
    "    # print(\"Mini Times for \" + month + '-' + day + '-' + year)\n",
    "    for solver in solvers:\n",
    "        name = solver.find('p', class_='lbd-score__name').text.strip()\n",
    "        try:\n",
    "            time = solver.find('p', class_='lbd-score__time').text.strip()\n",
    "        except:\n",
    "            time=\"--\"\n",
    "        if name.endswith(\"(you)\"):\n",
    "            name_split = name.split()\n",
    "            name = name_split[0]\n",
    "        if name in players:\n",
    "            if time == '--':\n",
    "                time = ''\n",
    "                seconds = ''\n",
    "            else:\n",
    "                t = datetime.strptime(time, \"%M:%S\")\n",
    "                delta = timedelta(hours=t.hour, minutes=t.minute, seconds=t.second)\n",
    "                seconds = round(delta.total_seconds())\n",
    "            daytimes.append([month,day,year, f'{year}-{month}-{day}',name,time,seconds])\n",
    "        print([month,day,year, f'{year}-{month}-{day}',name,time,seconds])\n",
    "#     with open(output, 'a', newline = '') as csvfile:  \n",
    "#         csvwriter = csv.writer(csvfile)              \n",
    "#         csvwriter.writerows(daytimes)\n",
    "        \n",
    "        \n",
    "get_mini_times(cookie, 'C:/Users/georg/Documents/crossword_downloads/downloaded_data/mini_data.csv')\n"
   ]
  },
  {
   "cell_type": "code",
   "execution_count": null,
   "metadata": {},
   "outputs": [],
   "source": []
  }
 ],
 "metadata": {
  "kernelspec": {
   "display_name": "Python 3",
   "language": "python",
   "name": "python3"
  },
  "language_info": {
   "codemirror_mode": {
    "name": "ipython",
    "version": 3
   },
   "file_extension": ".py",
   "mimetype": "text/x-python",
   "name": "python",
   "nbconvert_exporter": "python",
   "pygments_lexer": "ipython3",
   "version": "3.7.6"
  }
 },
 "nbformat": 4,
 "nbformat_minor": 4
}
